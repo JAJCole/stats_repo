{
 "cells": [
  {
   "attachments": {},
   "cell_type": "markdown",
   "id": "3cc0d5d4",
   "metadata": {},
   "source": [
    "For each of the following questions, formulate a null and alternative hypothesis (be as specific as you can be), then give an example of what a true positive, true negative, type I and type II errors would look like. Note that some of the questions are intentionally phrased in a vague way. It is your job to reword these as more precise questions that could be tested."
   ]
  },
  {
   "attachments": {},
   "cell_type": "markdown",
   "id": "4d0d60d7",
   "metadata": {},
   "source": []
  },
  {
   "attachments": {},
   "cell_type": "markdown",
   "id": "aa33c629",
   "metadata": {},
   "source": [
    "Has the network latency gone up since we switched internet service providers?"
   ]
  },
  {
   "attachments": {},
   "cell_type": "markdown",
   "id": "eb5a1c10",
   "metadata": {},
   "source": [
    "\"What, if any, is the significance of change in latency as related to change in ISP\"\n",
    "\n",
    "Ho: latency greater now than before, due to change of providers.\n",
    "Ha: latency no greater now than before regardless of change of providers.\n",
    "    \n",
    "true neg: latency greater than before as expected\n",
    "true pos: latency no greater than before\n",
    "false neg: assumed latency greater due to change but isnt\n",
    "false pos: assumed latency no greater due to change but is"
   ]
  },
  {
   "attachments": {},
   "cell_type": "markdown",
   "id": "d5fa2d81",
   "metadata": {},
   "source": []
  },
  {
   "attachments": {},
   "cell_type": "markdown",
   "id": "c56f5d03",
   "metadata": {},
   "source": [
    "Is the website redesign any good?"
   ]
  },
  {
   "attachments": {},
   "cell_type": "markdown",
   "id": "4a386cac",
   "metadata": {},
   "source": [
    "\"Does the redisgn of the website lead to more engagement\"\n",
    "\n",
    "Ho: redesign leads to more traffic and engagement of users\n",
    "Ha: redesign doesnt lead to more traffic and engagement\n",
    "\n",
    "true neg: the redesign expected to improve traffic and does\n",
    "true pos: the redesign not expected to improve and doesnt\n",
    "false neg: the redesign expected to increase traffic but doesnt\n",
    "false pos: the redesign not expected to increase traffic but does"
   ]
  },
  {
   "attachments": {},
   "cell_type": "markdown",
   "id": "bf9101b5",
   "metadata": {},
   "source": []
  },
  {
   "attachments": {},
   "cell_type": "markdown",
   "id": "6a0d8303",
   "metadata": {},
   "source": [
    "Is our television ad driving more sales?"
   ]
  },
  {
   "attachments": {},
   "cell_type": "markdown",
   "id": "fac564cd",
   "metadata": {},
   "source": [
    "\"Is the relationship between money spent on advertisement and increase of sales stats. sig.?\"\n",
    "\n",
    "Ho: more money on ads = more sales\n",
    "Ha: more money on ads != more sales\n",
    "\n",
    "true neg: the increase of expenditure on ads expected to improves sales and does\n",
    "true pos: the increase of expenditure on ads not expected to improve sales and doesnt\n",
    "false neg: increase in ad budget expected to increase sales but does not\n",
    "false pos: increase in ad budget not expected to increase sales but does"
   ]
  },
  {
   "attachments": {},
   "cell_type": "markdown",
   "id": "2142dc7b",
   "metadata": {},
   "source": []
  },
  {
   "attachments": {},
   "cell_type": "markdown",
   "id": "22bcc6cc",
   "metadata": {},
   "source": [
    "Hypothesis Testing cont. (Comparison of Means)"
   ]
  },
  {
   "attachments": {},
   "cell_type": "markdown",
   "id": "b8dca0c9",
   "metadata": {},
   "source": [
    "# 1"
   ]
  },
  {
   "attachments": {},
   "cell_type": "markdown",
   "id": "d34ee922",
   "metadata": {},
   "source": [
    "Is there a difference in grades of students on the second floor compared to grades of all students? "
   ]
  },
  {
   "cell_type": "code",
   "execution_count": 2,
   "id": "2e7a5717",
   "metadata": {},
   "outputs": [
    {
     "ename": "SyntaxError",
     "evalue": "invalid syntax (144836390.py, line 1)",
     "output_type": "error",
     "traceback": [
      "\u001b[0;36m  Input \u001b[0;32mIn [2]\u001b[0;36m\u001b[0m\n\u001b[0;31m    one sample T-test, two tail\u001b[0m\n\u001b[0m        ^\u001b[0m\n\u001b[0;31mSyntaxError\u001b[0m\u001b[0;31m:\u001b[0m invalid syntax\n"
     ]
    }
   ],
   "source": [
    "one sample T-test, two tail"
   ]
  },
  {
   "attachments": {},
   "cell_type": "markdown",
   "id": "a5343a26",
   "metadata": {},
   "source": [
    "Are adults who drink milk taller than adults who dont drink milk? "
   ]
  },
  {
   "cell_type": "code",
   "execution_count": null,
   "id": "7295ec67",
   "metadata": {},
   "outputs": [],
   "source": [
    "two sample T-test, 1tail because >"
   ]
  },
  {
   "attachments": {},
   "cell_type": "markdown",
   "id": "a8d851e7",
   "metadata": {},
   "source": [
    "Is the the price of gas higher in texas or in new mexico? "
   ]
  },
  {
   "cell_type": "code",
   "execution_count": null,
   "id": "376d0abf",
   "metadata": {},
   "outputs": [],
   "source": [
    "two sample T-test, 1tail because >"
   ]
  },
  {
   "attachments": {},
   "cell_type": "markdown",
   "id": "294ae542",
   "metadata": {},
   "source": [
    "Are there differences in stress levels between students who take data science vs students who take web development vs students who take cloud academy?"
   ]
  },
  {
   "cell_type": "code",
   "execution_count": null,
   "id": "5f82f824",
   "metadata": {},
   "outputs": [
    {
     "ename": "SyntaxError",
     "evalue": "invalid syntax (3922526318.py, line 1)",
     "output_type": "error",
     "traceback": [
      "\u001b[0;36m  Input \u001b[0;32mIn [1]\u001b[0;36m\u001b[0m\n\u001b[0;31m    ANOVA test, because multiple means\u001b[0m\n\u001b[0m          ^\u001b[0m\n\u001b[0;31mSyntaxError\u001b[0m\u001b[0;31m:\u001b[0m invalid syntax\n"
     ]
    }
   ],
   "source": [
    "ANOVA test, because multiple means"
   ]
  },
  {
   "attachments": {},
   "cell_type": "markdown",
   "id": "cff7fd00",
   "metadata": {},
   "source": [
    "# 2"
   ]
  },
  {
   "attachments": {},
   "cell_type": "markdown",
   "id": "94c5aa7b",
   "metadata": {},
   "source": [
    "Ace Realty wants to determine whether the average time it takes to sell homes is different for its two offices. \n",
    "A sample of 40 sales from office #1 revealed a mean of 90 days and a standard deviation of 15 days. \n",
    "A sample of 50 sales from office #2 revealed a mean of 100 days and a standard deviation of 20 days. \n",
    "Use a .05 level of significance."
   ]
  },
  {
   "cell_type": "code",
   "execution_count": null,
   "id": "42969c38",
   "metadata": {},
   "outputs": [],
   "source": []
  },
  {
   "attachments": {},
   "cell_type": "markdown",
   "id": "9c938af1",
   "metadata": {},
   "source": [
    "# ABOVE FILL IN REST OF HYPO_TEST"
   ]
  },
  {
   "attachments": {},
   "cell_type": "markdown",
   "id": "78983a15",
   "metadata": {},
   "source": []
  },
  {
   "attachments": {},
   "cell_type": "markdown",
   "id": "b773c28d",
   "metadata": {},
   "source": [
    "## Correlation"
   ]
  },
  {
   "attachments": {},
   "cell_type": "markdown",
   "id": "72f8e627",
   "metadata": {},
   "source": [
    "# 1 "
   ]
  },
  {
   "attachments": {},
   "cell_type": "markdown",
   "id": "31c85634",
   "metadata": {},
   "source": [
    "Answer with the type of stats test you would use (assume normal distribution)"
   ]
  },
  {
   "attachments": {},
   "cell_type": "markdown",
   "id": "57989782",
   "metadata": {},
   "source": [
    "Is there a relationship between the length of your arm and the length of your foot?"
   ]
  },
  {
   "cell_type": "code",
   "execution_count": null,
   "id": "5c2ee710",
   "metadata": {},
   "outputs": [],
   "source": [
    "pearsons r"
   ]
  },
  {
   "attachments": {},
   "cell_type": "markdown",
   "id": "4948919a",
   "metadata": {},
   "source": [
    "Do guys and gals quit their jobs at the same rate?"
   ]
  },
  {
   "cell_type": "code",
   "execution_count": null,
   "id": "91a19b4a",
   "metadata": {},
   "outputs": [],
   "source": [
    "chi squared"
   ]
  },
  {
   "attachments": {},
   "cell_type": "markdown",
   "id": "5abd184b",
   "metadata": {},
   "source": [
    "Does the length of time of the lecture correlate with a students grade? "
   ]
  },
  {
   "cell_type": "code",
   "execution_count": null,
   "id": "b5d2df99",
   "metadata": {},
   "outputs": [],
   "source": [
    "pearsons r"
   ]
  },
  {
   "attachments": {},
   "cell_type": "markdown",
   "id": "7b2eded0",
   "metadata": {},
   "source": [
    "# 2"
   ]
  },
  {
   "attachments": {},
   "cell_type": "markdown",
   "id": "eb176402",
   "metadata": {},
   "source": [
    "Use the telco_churn data. \n",
    "\n",
    "Does tenure correlate with monthly charges? "
   ]
  },
  {
   "cell_type": "code",
   "execution_count": 7,
   "id": "b91136c9",
   "metadata": {},
   "outputs": [],
   "source": [
    "from env import get_db_url\n",
    "import pandas as pd"
   ]
  },
  {
   "cell_type": "code",
   "execution_count": 4,
   "id": "06838c6f",
   "metadata": {},
   "outputs": [],
   "source": [
    "url = get_db_url('telco_churn')\n"
   ]
  },
  {
   "cell_type": "code",
   "execution_count": 11,
   "id": "2cd0266d",
   "metadata": {},
   "outputs": [
    {
     "data": {
      "text/html": [
       "<div>\n",
       "<style scoped>\n",
       "    .dataframe tbody tr th:only-of-type {\n",
       "        vertical-align: middle;\n",
       "    }\n",
       "\n",
       "    .dataframe tbody tr th {\n",
       "        vertical-align: top;\n",
       "    }\n",
       "\n",
       "    .dataframe thead th {\n",
       "        text-align: right;\n",
       "    }\n",
       "</style>\n",
       "<table border=\"1\" class=\"dataframe\">\n",
       "  <thead>\n",
       "    <tr style=\"text-align: right;\">\n",
       "      <th></th>\n",
       "      <th>customer_id</th>\n",
       "      <th>gender</th>\n",
       "      <th>senior_citizen</th>\n",
       "      <th>partner</th>\n",
       "      <th>dependents</th>\n",
       "      <th>tenure</th>\n",
       "      <th>phone_service</th>\n",
       "      <th>multiple_lines</th>\n",
       "      <th>internet_service_type_id</th>\n",
       "      <th>online_security</th>\n",
       "      <th>...</th>\n",
       "      <th>device_protection</th>\n",
       "      <th>tech_support</th>\n",
       "      <th>streaming_tv</th>\n",
       "      <th>streaming_movies</th>\n",
       "      <th>contract_type_id</th>\n",
       "      <th>paperless_billing</th>\n",
       "      <th>payment_type_id</th>\n",
       "      <th>monthly_charges</th>\n",
       "      <th>total_charges</th>\n",
       "      <th>churn</th>\n",
       "    </tr>\n",
       "  </thead>\n",
       "  <tbody>\n",
       "    <tr>\n",
       "      <th>0</th>\n",
       "      <td>0002-ORFBO</td>\n",
       "      <td>Female</td>\n",
       "      <td>0</td>\n",
       "      <td>Yes</td>\n",
       "      <td>Yes</td>\n",
       "      <td>9</td>\n",
       "      <td>Yes</td>\n",
       "      <td>No</td>\n",
       "      <td>1</td>\n",
       "      <td>No</td>\n",
       "      <td>...</td>\n",
       "      <td>No</td>\n",
       "      <td>Yes</td>\n",
       "      <td>Yes</td>\n",
       "      <td>No</td>\n",
       "      <td>2</td>\n",
       "      <td>Yes</td>\n",
       "      <td>2</td>\n",
       "      <td>65.60</td>\n",
       "      <td>593.3</td>\n",
       "      <td>No</td>\n",
       "    </tr>\n",
       "    <tr>\n",
       "      <th>1</th>\n",
       "      <td>0003-MKNFE</td>\n",
       "      <td>Male</td>\n",
       "      <td>0</td>\n",
       "      <td>No</td>\n",
       "      <td>No</td>\n",
       "      <td>9</td>\n",
       "      <td>Yes</td>\n",
       "      <td>Yes</td>\n",
       "      <td>1</td>\n",
       "      <td>No</td>\n",
       "      <td>...</td>\n",
       "      <td>No</td>\n",
       "      <td>No</td>\n",
       "      <td>No</td>\n",
       "      <td>Yes</td>\n",
       "      <td>1</td>\n",
       "      <td>No</td>\n",
       "      <td>2</td>\n",
       "      <td>59.90</td>\n",
       "      <td>542.4</td>\n",
       "      <td>No</td>\n",
       "    </tr>\n",
       "    <tr>\n",
       "      <th>2</th>\n",
       "      <td>0004-TLHLJ</td>\n",
       "      <td>Male</td>\n",
       "      <td>0</td>\n",
       "      <td>No</td>\n",
       "      <td>No</td>\n",
       "      <td>4</td>\n",
       "      <td>Yes</td>\n",
       "      <td>No</td>\n",
       "      <td>2</td>\n",
       "      <td>No</td>\n",
       "      <td>...</td>\n",
       "      <td>Yes</td>\n",
       "      <td>No</td>\n",
       "      <td>No</td>\n",
       "      <td>No</td>\n",
       "      <td>1</td>\n",
       "      <td>Yes</td>\n",
       "      <td>1</td>\n",
       "      <td>73.90</td>\n",
       "      <td>280.85</td>\n",
       "      <td>Yes</td>\n",
       "    </tr>\n",
       "    <tr>\n",
       "      <th>3</th>\n",
       "      <td>0011-IGKFF</td>\n",
       "      <td>Male</td>\n",
       "      <td>1</td>\n",
       "      <td>Yes</td>\n",
       "      <td>No</td>\n",
       "      <td>13</td>\n",
       "      <td>Yes</td>\n",
       "      <td>No</td>\n",
       "      <td>2</td>\n",
       "      <td>No</td>\n",
       "      <td>...</td>\n",
       "      <td>Yes</td>\n",
       "      <td>No</td>\n",
       "      <td>Yes</td>\n",
       "      <td>Yes</td>\n",
       "      <td>1</td>\n",
       "      <td>Yes</td>\n",
       "      <td>1</td>\n",
       "      <td>98.00</td>\n",
       "      <td>1237.85</td>\n",
       "      <td>Yes</td>\n",
       "    </tr>\n",
       "    <tr>\n",
       "      <th>4</th>\n",
       "      <td>0013-EXCHZ</td>\n",
       "      <td>Female</td>\n",
       "      <td>1</td>\n",
       "      <td>Yes</td>\n",
       "      <td>No</td>\n",
       "      <td>3</td>\n",
       "      <td>Yes</td>\n",
       "      <td>No</td>\n",
       "      <td>2</td>\n",
       "      <td>No</td>\n",
       "      <td>...</td>\n",
       "      <td>No</td>\n",
       "      <td>Yes</td>\n",
       "      <td>Yes</td>\n",
       "      <td>No</td>\n",
       "      <td>1</td>\n",
       "      <td>Yes</td>\n",
       "      <td>2</td>\n",
       "      <td>83.90</td>\n",
       "      <td>267.4</td>\n",
       "      <td>Yes</td>\n",
       "    </tr>\n",
       "    <tr>\n",
       "      <th>...</th>\n",
       "      <td>...</td>\n",
       "      <td>...</td>\n",
       "      <td>...</td>\n",
       "      <td>...</td>\n",
       "      <td>...</td>\n",
       "      <td>...</td>\n",
       "      <td>...</td>\n",
       "      <td>...</td>\n",
       "      <td>...</td>\n",
       "      <td>...</td>\n",
       "      <td>...</td>\n",
       "      <td>...</td>\n",
       "      <td>...</td>\n",
       "      <td>...</td>\n",
       "      <td>...</td>\n",
       "      <td>...</td>\n",
       "      <td>...</td>\n",
       "      <td>...</td>\n",
       "      <td>...</td>\n",
       "      <td>...</td>\n",
       "      <td>...</td>\n",
       "    </tr>\n",
       "    <tr>\n",
       "      <th>7038</th>\n",
       "      <td>9987-LUTYD</td>\n",
       "      <td>Female</td>\n",
       "      <td>0</td>\n",
       "      <td>No</td>\n",
       "      <td>No</td>\n",
       "      <td>13</td>\n",
       "      <td>Yes</td>\n",
       "      <td>No</td>\n",
       "      <td>1</td>\n",
       "      <td>Yes</td>\n",
       "      <td>...</td>\n",
       "      <td>No</td>\n",
       "      <td>Yes</td>\n",
       "      <td>No</td>\n",
       "      <td>No</td>\n",
       "      <td>2</td>\n",
       "      <td>No</td>\n",
       "      <td>2</td>\n",
       "      <td>55.15</td>\n",
       "      <td>742.9</td>\n",
       "      <td>No</td>\n",
       "    </tr>\n",
       "    <tr>\n",
       "      <th>7039</th>\n",
       "      <td>9992-RRAMN</td>\n",
       "      <td>Male</td>\n",
       "      <td>0</td>\n",
       "      <td>Yes</td>\n",
       "      <td>No</td>\n",
       "      <td>22</td>\n",
       "      <td>Yes</td>\n",
       "      <td>Yes</td>\n",
       "      <td>2</td>\n",
       "      <td>No</td>\n",
       "      <td>...</td>\n",
       "      <td>No</td>\n",
       "      <td>No</td>\n",
       "      <td>No</td>\n",
       "      <td>Yes</td>\n",
       "      <td>1</td>\n",
       "      <td>Yes</td>\n",
       "      <td>1</td>\n",
       "      <td>85.10</td>\n",
       "      <td>1873.7</td>\n",
       "      <td>Yes</td>\n",
       "    </tr>\n",
       "    <tr>\n",
       "      <th>7040</th>\n",
       "      <td>9992-UJOEL</td>\n",
       "      <td>Male</td>\n",
       "      <td>0</td>\n",
       "      <td>No</td>\n",
       "      <td>No</td>\n",
       "      <td>2</td>\n",
       "      <td>Yes</td>\n",
       "      <td>No</td>\n",
       "      <td>1</td>\n",
       "      <td>No</td>\n",
       "      <td>...</td>\n",
       "      <td>No</td>\n",
       "      <td>No</td>\n",
       "      <td>No</td>\n",
       "      <td>No</td>\n",
       "      <td>1</td>\n",
       "      <td>Yes</td>\n",
       "      <td>2</td>\n",
       "      <td>50.30</td>\n",
       "      <td>92.75</td>\n",
       "      <td>No</td>\n",
       "    </tr>\n",
       "    <tr>\n",
       "      <th>7041</th>\n",
       "      <td>9993-LHIEB</td>\n",
       "      <td>Male</td>\n",
       "      <td>0</td>\n",
       "      <td>Yes</td>\n",
       "      <td>Yes</td>\n",
       "      <td>67</td>\n",
       "      <td>Yes</td>\n",
       "      <td>No</td>\n",
       "      <td>1</td>\n",
       "      <td>Yes</td>\n",
       "      <td>...</td>\n",
       "      <td>Yes</td>\n",
       "      <td>Yes</td>\n",
       "      <td>No</td>\n",
       "      <td>Yes</td>\n",
       "      <td>3</td>\n",
       "      <td>No</td>\n",
       "      <td>2</td>\n",
       "      <td>67.85</td>\n",
       "      <td>4627.65</td>\n",
       "      <td>No</td>\n",
       "    </tr>\n",
       "    <tr>\n",
       "      <th>7042</th>\n",
       "      <td>9995-HOTOH</td>\n",
       "      <td>Male</td>\n",
       "      <td>0</td>\n",
       "      <td>Yes</td>\n",
       "      <td>Yes</td>\n",
       "      <td>63</td>\n",
       "      <td>No</td>\n",
       "      <td>No phone service</td>\n",
       "      <td>1</td>\n",
       "      <td>Yes</td>\n",
       "      <td>...</td>\n",
       "      <td>Yes</td>\n",
       "      <td>No</td>\n",
       "      <td>Yes</td>\n",
       "      <td>Yes</td>\n",
       "      <td>3</td>\n",
       "      <td>No</td>\n",
       "      <td>1</td>\n",
       "      <td>59.00</td>\n",
       "      <td>3707.6</td>\n",
       "      <td>No</td>\n",
       "    </tr>\n",
       "  </tbody>\n",
       "</table>\n",
       "<p>7043 rows × 21 columns</p>\n",
       "</div>"
      ],
      "text/plain": [
       "     customer_id  gender  senior_citizen partner dependents  tenure  \\\n",
       "0     0002-ORFBO  Female               0     Yes        Yes       9   \n",
       "1     0003-MKNFE    Male               0      No         No       9   \n",
       "2     0004-TLHLJ    Male               0      No         No       4   \n",
       "3     0011-IGKFF    Male               1     Yes         No      13   \n",
       "4     0013-EXCHZ  Female               1     Yes         No       3   \n",
       "...          ...     ...             ...     ...        ...     ...   \n",
       "7038  9987-LUTYD  Female               0      No         No      13   \n",
       "7039  9992-RRAMN    Male               0     Yes         No      22   \n",
       "7040  9992-UJOEL    Male               0      No         No       2   \n",
       "7041  9993-LHIEB    Male               0     Yes        Yes      67   \n",
       "7042  9995-HOTOH    Male               0     Yes        Yes      63   \n",
       "\n",
       "     phone_service    multiple_lines  internet_service_type_id  \\\n",
       "0              Yes                No                         1   \n",
       "1              Yes               Yes                         1   \n",
       "2              Yes                No                         2   \n",
       "3              Yes                No                         2   \n",
       "4              Yes                No                         2   \n",
       "...            ...               ...                       ...   \n",
       "7038           Yes                No                         1   \n",
       "7039           Yes               Yes                         2   \n",
       "7040           Yes                No                         1   \n",
       "7041           Yes                No                         1   \n",
       "7042            No  No phone service                         1   \n",
       "\n",
       "     online_security  ... device_protection tech_support streaming_tv  \\\n",
       "0                 No  ...                No          Yes          Yes   \n",
       "1                 No  ...                No           No           No   \n",
       "2                 No  ...               Yes           No           No   \n",
       "3                 No  ...               Yes           No          Yes   \n",
       "4                 No  ...                No          Yes          Yes   \n",
       "...              ...  ...               ...          ...          ...   \n",
       "7038             Yes  ...                No          Yes           No   \n",
       "7039              No  ...                No           No           No   \n",
       "7040              No  ...                No           No           No   \n",
       "7041             Yes  ...               Yes          Yes           No   \n",
       "7042             Yes  ...               Yes           No          Yes   \n",
       "\n",
       "     streaming_movies contract_type_id  paperless_billing payment_type_id  \\\n",
       "0                  No                2                Yes               2   \n",
       "1                 Yes                1                 No               2   \n",
       "2                  No                1                Yes               1   \n",
       "3                 Yes                1                Yes               1   \n",
       "4                  No                1                Yes               2   \n",
       "...               ...              ...                ...             ...   \n",
       "7038               No                2                 No               2   \n",
       "7039              Yes                1                Yes               1   \n",
       "7040               No                1                Yes               2   \n",
       "7041              Yes                3                 No               2   \n",
       "7042              Yes                3                 No               1   \n",
       "\n",
       "      monthly_charges  total_charges churn  \n",
       "0               65.60          593.3    No  \n",
       "1               59.90          542.4    No  \n",
       "2               73.90         280.85   Yes  \n",
       "3               98.00        1237.85   Yes  \n",
       "4               83.90          267.4   Yes  \n",
       "...               ...            ...   ...  \n",
       "7038            55.15          742.9    No  \n",
       "7039            85.10         1873.7   Yes  \n",
       "7040            50.30          92.75    No  \n",
       "7041            67.85        4627.65    No  \n",
       "7042            59.00         3707.6    No  \n",
       "\n",
       "[7043 rows x 21 columns]"
      ]
     },
     "execution_count": 11,
     "metadata": {},
     "output_type": "execute_result"
    }
   ],
   "source": [
    "pd.read_sql('SELECT * FROM customers', url)\n"
   ]
  },
  {
   "cell_type": "code",
   "execution_count": 19,
   "id": "b3118731",
   "metadata": {},
   "outputs": [
    {
     "data": {
      "text/html": [
       "<div>\n",
       "<style scoped>\n",
       "    .dataframe tbody tr th:only-of-type {\n",
       "        vertical-align: middle;\n",
       "    }\n",
       "\n",
       "    .dataframe tbody tr th {\n",
       "        vertical-align: top;\n",
       "    }\n",
       "\n",
       "    .dataframe thead th {\n",
       "        text-align: right;\n",
       "    }\n",
       "</style>\n",
       "<table border=\"1\" class=\"dataframe\">\n",
       "  <thead>\n",
       "    <tr style=\"text-align: right;\">\n",
       "      <th></th>\n",
       "      <th>monthly_charges</th>\n",
       "    </tr>\n",
       "  </thead>\n",
       "  <tbody>\n",
       "    <tr>\n",
       "      <th>count</th>\n",
       "      <td>7043.000000</td>\n",
       "    </tr>\n",
       "    <tr>\n",
       "      <th>mean</th>\n",
       "      <td>64.761692</td>\n",
       "    </tr>\n",
       "    <tr>\n",
       "      <th>std</th>\n",
       "      <td>30.090047</td>\n",
       "    </tr>\n",
       "    <tr>\n",
       "      <th>min</th>\n",
       "      <td>18.250000</td>\n",
       "    </tr>\n",
       "    <tr>\n",
       "      <th>25%</th>\n",
       "      <td>35.500000</td>\n",
       "    </tr>\n",
       "    <tr>\n",
       "      <th>50%</th>\n",
       "      <td>70.350000</td>\n",
       "    </tr>\n",
       "    <tr>\n",
       "      <th>75%</th>\n",
       "      <td>89.850000</td>\n",
       "    </tr>\n",
       "    <tr>\n",
       "      <th>max</th>\n",
       "      <td>118.750000</td>\n",
       "    </tr>\n",
       "  </tbody>\n",
       "</table>\n",
       "</div>"
      ],
      "text/plain": [
       "       monthly_charges\n",
       "count      7043.000000\n",
       "mean         64.761692\n",
       "std          30.090047\n",
       "min          18.250000\n",
       "25%          35.500000\n",
       "50%          70.350000\n",
       "75%          89.850000\n",
       "max         118.750000"
      ]
     },
     "execution_count": 19,
     "metadata": {},
     "output_type": "execute_result"
    }
   ],
   "source": [
    "tenure_df = pd.read_sql('SELECT tenure FROM customers', url)\n",
    "month_charge = pd.read_sql('SELECT monthly_charges FROM customers', url)\n",
    "\n",
    "\n",
    "tenure_df.describe()\n",
    "month_charge.describe()"
   ]
  },
  {
   "cell_type": "code",
   "execution_count": 23,
   "id": "057e0a6d",
   "metadata": {},
   "outputs": [
    {
     "ename": "ValueError",
     "evalue": "shapes (7043,1) and (7043,1) not aligned: 1 (dim 1) != 7043 (dim 0)",
     "output_type": "error",
     "traceback": [
      "\u001b[0;31m---------------------------------------------------------------------------\u001b[0m",
      "\u001b[0;31mValueError\u001b[0m                                Traceback (most recent call last)",
      "\u001b[1;32m/Users/jarredcole/codeup-data-science/stats_repo/hypothesis_testing.ipynb Cell 42\u001b[0m in \u001b[0;36m<cell line: 3>\u001b[0;34m()\u001b[0m\n\u001b[1;32m      <a href='vscode-notebook-cell:/Users/jarredcole/codeup-data-science/stats_repo/hypothesis_testing.ipynb#X56sZmlsZQ%3D%3D?line=0'>1</a>\u001b[0m \u001b[39mfrom\u001b[39;00m \u001b[39mscipy\u001b[39;00m \u001b[39mimport\u001b[39;00m stats\n\u001b[0;32m----> <a href='vscode-notebook-cell:/Users/jarredcole/codeup-data-science/stats_repo/hypothesis_testing.ipynb#X56sZmlsZQ%3D%3D?line=2'>3</a>\u001b[0m corr, p \u001b[39m=\u001b[39m stats\u001b[39m.\u001b[39;49mpearsonr(tenure_df, month_charge)\n\u001b[1;32m      <a href='vscode-notebook-cell:/Users/jarredcole/codeup-data-science/stats_repo/hypothesis_testing.ipynb#X56sZmlsZQ%3D%3D?line=3'>4</a>\u001b[0m corr, p\n",
      "File \u001b[0;32m/opt/homebrew/anaconda3/lib/python3.9/site-packages/scipy/stats/_stats_py.py:4463\u001b[0m, in \u001b[0;36mpearsonr\u001b[0;34m(x, y, alternative)\u001b[0m\n\u001b[1;32m   4459\u001b[0m     msg \u001b[39m=\u001b[39m (\u001b[39m\"\u001b[39m\u001b[39mAn input array is nearly constant; the computed \u001b[39m\u001b[39m\"\u001b[39m\n\u001b[1;32m   4460\u001b[0m            \u001b[39m\"\u001b[39m\u001b[39mcorrelation coefficient may be inaccurate.\u001b[39m\u001b[39m\"\u001b[39m)\n\u001b[1;32m   4461\u001b[0m     warnings\u001b[39m.\u001b[39mwarn(stats\u001b[39m.\u001b[39mNearConstantInputWarning(msg))\n\u001b[0;32m-> 4463\u001b[0m r \u001b[39m=\u001b[39m np\u001b[39m.\u001b[39;49mdot(xm\u001b[39m/\u001b[39;49mnormxm, ym\u001b[39m/\u001b[39;49mnormym)\n\u001b[1;32m   4465\u001b[0m \u001b[39m# Presumably, if abs(r) > 1, then it is only some small artifact of\u001b[39;00m\n\u001b[1;32m   4466\u001b[0m \u001b[39m# floating point arithmetic.\u001b[39;00m\n\u001b[1;32m   4467\u001b[0m r \u001b[39m=\u001b[39m \u001b[39mmax\u001b[39m(\u001b[39mmin\u001b[39m(r, \u001b[39m1.0\u001b[39m), \u001b[39m-\u001b[39m\u001b[39m1.0\u001b[39m)\n",
      "File \u001b[0;32m<__array_function__ internals>:5\u001b[0m, in \u001b[0;36mdot\u001b[0;34m(*args, **kwargs)\u001b[0m\n",
      "\u001b[0;31mValueError\u001b[0m: shapes (7043,1) and (7043,1) not aligned: 1 (dim 1) != 7043 (dim 0)"
     ]
    }
   ],
   "source": [
    "from scipy import stats\n",
    "\n",
    "corr, p = stats.pearsonr(tenure_df, month_charge)\n",
    "corr, p\n"
   ]
  },
  {
   "cell_type": "code",
   "execution_count": null,
   "id": "e079b4ba",
   "metadata": {},
   "outputs": [],
   "source": []
  },
  {
   "cell_type": "code",
   "execution_count": null,
   "id": "0f126f90",
   "metadata": {},
   "outputs": [],
   "source": []
  }
 ],
 "metadata": {
  "kernelspec": {
   "display_name": "Python 3 (ipykernel)",
   "language": "python",
   "name": "python3"
  },
  "language_info": {
   "codemirror_mode": {
    "name": "ipython",
    "version": 3
   },
   "file_extension": ".py",
   "mimetype": "text/x-python",
   "name": "python",
   "nbconvert_exporter": "python",
   "pygments_lexer": "ipython3",
   "version": "3.9.13"
  }
 },
 "nbformat": 4,
 "nbformat_minor": 5
}
